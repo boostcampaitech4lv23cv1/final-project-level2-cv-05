{
 "cells": [
  {
   "cell_type": "markdown",
   "id": "ee66c505-109f-4db1-8cdf-bb00774f535d",
   "metadata": {},
   "source": [
    "# 데이터가 너무 많아 학습 오래걸리므로 전체 데이터의 subset 생성 및, train val split"
   ]
  },
  {
   "cell_type": "markdown",
   "id": "862b6259-abf0-45fa-a547-ad69d24f2bed",
   "metadata": {},
   "source": [
    "## multi label stf k fold를 진행하기 위한 df 생성"
   ]
  },
  {
   "cell_type": "code",
   "execution_count": 110,
   "id": "b8e9d712-0117-42ba-a406-2fe47ec4417b",
   "metadata": {},
   "outputs": [],
   "source": [
    "import json\n",
    "import os\n",
    "import numpy as np\n",
    "import pandas as pd\n",
    "\n",
    "from tqdm import tqdm\n",
    "from sklearn.model_selection import StratifiedGroupKFold"
   ]
  },
  {
   "cell_type": "code",
   "execution_count": 2,
   "id": "2444fe52-635a-4eb9-85ef-42fc2b9421b0",
   "metadata": {},
   "outputs": [],
   "source": [
    "## 간단한 EDA"
   ]
  },
  {
   "cell_type": "code",
   "execution_count": 7,
   "id": "a4123a54-42e7-4d2e-9389-4d451e530433",
   "metadata": {},
   "outputs": [
    {
     "name": "stdout",
     "output_type": "stream",
     "text": [
      "/opt/ml/bootcamp/dataset\n",
      "4th_run_124.yaml  labels124  train_124.txt  val_124.txt\n",
      "class_124.csv\t  train      val\n"
     ]
    }
   ],
   "source": [
    "# %cd bootcamp/dataset\n",
    "# !ls"
   ]
  },
  {
   "cell_type": "code",
   "execution_count": 14,
   "id": "009ff8d0-ea04-4d37-a522-4ebb58aeb018",
   "metadata": {},
   "outputs": [
    {
     "name": "stdout",
     "output_type": "stream",
     "text": [
      "전체 이미지 개수: 81162\n",
      "label이 존재하는 이미지 개수:73566\n"
     ]
    }
   ],
   "source": [
    "# FP를 줄이기 위해 label이 없는 데이터도 존재\n",
    "all_train_num = len(os.listdir('train/images'))\n",
    "yes_label_train_num = len(os.listdir('labels124')) \n",
    "print(f'전체 이미지 개수: {all_train_num}\\nlabel이 존재하는 이미지 개수:{yes_label_train_num}')"
   ]
  },
  {
   "cell_type": "code",
   "execution_count": 489,
   "id": "3af522aa-3e99-4871-bde7-f3377880c2e4",
   "metadata": {},
   "outputs": [
    {
     "name": "stderr",
     "output_type": "stream",
     "text": [
      "100%|██████████| 81162/81162 [01:06<00:00, 1225.48it/s]\n"
     ]
    },
    {
     "data": {
      "text/plain": [
       "True"
      ]
     },
     "execution_count": 489,
     "metadata": {},
     "output_type": "execute_result"
    }
   ],
   "source": [
    "no_label_img_list = [] # label이 존재하지 않는 image list \n",
    "train_img_list = os.listdir('train/images')\n",
    "yes_label_img_list = os.listdir('labels124')\n",
    "for i in tqdm(range(len(train_img_list))):\n",
    "    img_path = train_img_list[i]\n",
    "    img_path_split = img_path.split('.')\n",
    "    img_name = img_path_split[0] + '.' + img_path_split[1] + '.txt'\n",
    "    if img_name not in yes_label_img_list:\n",
    "        no_label_img_list.append(img_path)\n",
    "len(no_label_img_list) == 81162 - 73566"
   ]
  },
  {
   "cell_type": "code",
   "execution_count": 112,
   "id": "a9d2e44c-e819-4020-ab61-088c7573f86e",
   "metadata": {},
   "outputs": [],
   "source": [
    "def get_session(class_num):\n",
    "    if class_num <= 8:\n",
    "        session = 0\n",
    "    elif class_num <=18:\n",
    "        session = 1\n",
    "    elif class_num <=28:\n",
    "        session = 2\n",
    "    elif class_num <=38:\n",
    "        session = 3\n",
    "    elif class_num <=47:\n",
    "        session = 4\n",
    "    elif class_num <=57:\n",
    "        session = 5\n",
    "    elif class_num <=67:\n",
    "        session = 6\n",
    "    elif class_num <=73:\n",
    "        session = 7\n",
    "    elif class_num <=83:\n",
    "        session = 8\n",
    "    elif class_num <=93:\n",
    "        session = 9\n",
    "    elif class_num <=103:\n",
    "        session = 10\n",
    "    elif class_num <=113:\n",
    "        session = 11\n",
    "    else:\n",
    "        session = 12\n",
    "    \n",
    "    return session"
   ]
  },
  {
   "cell_type": "code",
   "execution_count": 440,
   "id": "2a86c214-756c-4ac4-a7a6-d9ac69416adb",
   "metadata": {},
   "outputs": [],
   "source": [
    "# 기존 train, val에 해당하는 44140 + 14713 = 58853개로 후보군 축소(0.2에 해당하는 test는 쓰이지 않아서 기존 trainset은 8만이아닌 58853)\n",
    "with open('train_124.txt', 'r') as f:\n",
    "    train_124 = f.readlines()\n",
    "with open('val_124.txt', 'r') as f:\n",
    "    val_124 = f.readlines()\n",
    "train_124.extend(val_124)"
   ]
  },
  {
   "cell_type": "code",
   "execution_count": 451,
   "id": "373ed1a4-4a71-4d25-a495-e66cebc203a6",
   "metadata": {},
   "outputs": [
    {
     "data": {
      "text/plain": [
       "58853"
      ]
     },
     "execution_count": 451,
     "metadata": {},
     "output_type": "execute_result"
    }
   ],
   "source": [
    "train_58853_list = []\n",
    "for path in train_124:\n",
    "    train_58853_list.append(path.split('/')[-1][:-4] + 'txt')\n",
    "len(train_58853_list)"
   ]
  },
  {
   "cell_type": "code",
   "execution_count": 452,
   "id": "17585999-5e0b-48e5-97f7-fd0a0d5c3bb9",
   "metadata": {},
   "outputs": [
    {
     "data": {
      "text/plain": [
       "58853"
      ]
     },
     "execution_count": 452,
     "metadata": {},
     "output_type": "execute_result"
    }
   ],
   "source": [
    "both_exist = 0\n",
    "img_ann_list = os.listdir('labels124')\n",
    "for img in train_58853_list:\n",
    "    if img in img_ann_list:\n",
    "        both_exist+=1\n",
    "both_exist # -> 기존 train,val set의 이미지들은 모두 다 label txt파일이 존재"
   ]
  },
  {
   "cell_type": "code",
   "execution_count": 455,
   "id": "403a3f06-8efb-4357-8a32-552826ed3525",
   "metadata": {},
   "outputs": [
    {
     "name": "stderr",
     "output_type": "stream",
     "text": [
      "58853it [03:37, 270.02it/s]\n"
     ]
    }
   ],
   "source": [
    "img_ann_list = train_58853_list.copy()\n",
    "label_img_df = pd.DataFrame(columns=[['img_name','object_num','box_mean_size','session', 'box_class_list']])\n",
    "empty_txt_img_list = [] # txt파일 비어있는 경우\n",
    "for i, img in tqdm(enumerate(img_ann_list)):\n",
    "    if img == '.ipynb_checkpoints':\n",
    "        continue\n",
    "        \n",
    "    with open(os.path.join('labels124',img), 'r') as f:\n",
    "        data = f.readlines()  # class, x, y, w, h\n",
    "        \n",
    "    if len(data) == 0:\n",
    "        empty_txt_img_list.append(img.split('.')[0] + '.' + img.split('.')[1] + '.jpg')\n",
    "        continue\n",
    "        \n",
    "    box_size_list = []\n",
    "    box_class_list = []\n",
    "    for box in data:\n",
    "        box_w, box_h = box.split()[-2], box.split()[-1]\n",
    "        box_class = box.split()[0]\n",
    "        box_size = round(float(box_w) * float(box_h), 5)\n",
    "        box_size_list.append(box_size)\n",
    "        box_class_list.append(box_class)\n",
    "    \n",
    "    img_name = img.split('.')[0] + '.' + img.split('.')[1]\n",
    "    object_num = len(data)\n",
    "    box_mean_size = np.mean(box_size_list)\n",
    "    session = get_session(int(data[0].split()[0]))\n",
    "    \n",
    "    temp_df = pd.DataFrame([[img_name, object_num, box_mean_size, session, box_class_list]], columns=[['img_name','object_num','box_mean_size','session','box_class_list']])\n",
    "    label_img_df = pd.concat([label_img_df, temp_df], ignore_index=True)"
   ]
  },
  {
   "cell_type": "code",
   "execution_count": 456,
   "id": "86f117ba-4f57-4cc9-bd74-58ec02043433",
   "metadata": {},
   "outputs": [
    {
     "data": {
      "text/plain": [
       "((58178, 5), 675)"
      ]
     },
     "execution_count": 456,
     "metadata": {},
     "output_type": "execute_result"
    }
   ],
   "source": [
    " # 빈 txt파일이 874개, 즉 label이 존재하지 않는 data가 추가적으로 874개 존재\n",
    "label_img_df.shape, len(empty_txt_img_list)"
   ]
  },
  {
   "cell_type": "code",
   "execution_count": 457,
   "id": "ac5ff0fd-dace-45de-bed1-3bdf8c25acde",
   "metadata": {},
   "outputs": [
    {
     "data": {
      "text/html": [
       "<div>\n",
       "<style scoped>\n",
       "    .dataframe tbody tr th:only-of-type {\n",
       "        vertical-align: middle;\n",
       "    }\n",
       "\n",
       "    .dataframe tbody tr th {\n",
       "        vertical-align: top;\n",
       "    }\n",
       "\n",
       "    .dataframe thead tr th {\n",
       "        text-align: left;\n",
       "    }\n",
       "</style>\n",
       "<table border=\"1\" class=\"dataframe\">\n",
       "  <thead>\n",
       "    <tr>\n",
       "      <th></th>\n",
       "      <th>img_id</th>\n",
       "      <th>img_name</th>\n",
       "      <th>object_num</th>\n",
       "      <th>box_mean_size</th>\n",
       "      <th>session</th>\n",
       "      <th>box_class_list</th>\n",
       "    </tr>\n",
       "  </thead>\n",
       "  <tbody>\n",
       "    <tr>\n",
       "      <th>0</th>\n",
       "      <td>0</td>\n",
       "      <td>10_hik_204_1662356574.mov_280</td>\n",
       "      <td>3</td>\n",
       "      <td>0.001357</td>\n",
       "      <td>10</td>\n",
       "      <td>[96, 95, 98]</td>\n",
       "    </tr>\n",
       "    <tr>\n",
       "      <th>1</th>\n",
       "      <td>1</td>\n",
       "      <td>11_hik_204_1662358535.mov_1852</td>\n",
       "      <td>2</td>\n",
       "      <td>0.004645</td>\n",
       "      <td>11</td>\n",
       "      <td>[108, 108]</td>\n",
       "    </tr>\n",
       "    <tr>\n",
       "      <th>2</th>\n",
       "      <td>2</td>\n",
       "      <td>9_hik_205_1662348299.mov_3328</td>\n",
       "      <td>2</td>\n",
       "      <td>0.004400</td>\n",
       "      <td>9</td>\n",
       "      <td>[93, 87]</td>\n",
       "    </tr>\n",
       "    <tr>\n",
       "      <th>3</th>\n",
       "      <td>3</td>\n",
       "      <td>5_hik_203_1658977700.mov_2295</td>\n",
       "      <td>1</td>\n",
       "      <td>0.010570</td>\n",
       "      <td>5</td>\n",
       "      <td>[49]</td>\n",
       "    </tr>\n",
       "    <tr>\n",
       "      <th>4</th>\n",
       "      <td>4</td>\n",
       "      <td>4_hik_205_1658973309.mov_165</td>\n",
       "      <td>2</td>\n",
       "      <td>0.003005</td>\n",
       "      <td>4</td>\n",
       "      <td>[42, 43]</td>\n",
       "    </tr>\n",
       "  </tbody>\n",
       "</table>\n",
       "</div>"
      ],
      "text/plain": [
       "  img_id                        img_name object_num box_mean_size session  \\\n",
       "0      0   10_hik_204_1662356574.mov_280          3      0.001357      10   \n",
       "1      1  11_hik_204_1662358535.mov_1852          2      0.004645      11   \n",
       "2      2   9_hik_205_1662348299.mov_3328          2      0.004400       9   \n",
       "3      3   5_hik_203_1658977700.mov_2295          1      0.010570       5   \n",
       "4      4    4_hik_205_1658973309.mov_165          2      0.003005       4   \n",
       "\n",
       "  box_class_list  \n",
       "0   [96, 95, 98]  \n",
       "1     [108, 108]  \n",
       "2       [93, 87]  \n",
       "3           [49]  \n",
       "4       [42, 43]  "
      ]
     },
     "execution_count": 457,
     "metadata": {},
     "output_type": "execute_result"
    }
   ],
   "source": [
    "label_img_df = label_img_df.reset_index()\n",
    "label_img_df.columns = [['img_id','img_name','object_num','box_mean_size','session','box_class_list']]\n",
    "label_img_df['object_num'] = label_img_df['object_num'].apply(lambda x: x.astype(int)) # decsribe 값을 보기 위해\n",
    "label_img_df.head()"
   ]
  },
  {
   "cell_type": "code",
   "execution_count": 458,
   "id": "9322b1ad-9cd1-422f-9c73-f619679442b4",
   "metadata": {},
   "outputs": [
    {
     "data": {
      "text/html": [
       "<div>\n",
       "<style scoped>\n",
       "    .dataframe tbody tr th:only-of-type {\n",
       "        vertical-align: middle;\n",
       "    }\n",
       "\n",
       "    .dataframe tbody tr th {\n",
       "        vertical-align: top;\n",
       "    }\n",
       "\n",
       "    .dataframe thead tr th {\n",
       "        text-align: left;\n",
       "    }\n",
       "</style>\n",
       "<table border=\"1\" class=\"dataframe\">\n",
       "  <thead>\n",
       "    <tr>\n",
       "      <th></th>\n",
       "      <th>img_id</th>\n",
       "      <th>object_num</th>\n",
       "      <th>box_mean_size</th>\n",
       "    </tr>\n",
       "  </thead>\n",
       "  <tbody>\n",
       "    <tr>\n",
       "      <th>count</th>\n",
       "      <td>58178.000000</td>\n",
       "      <td>58178.000000</td>\n",
       "      <td>58178.000000</td>\n",
       "    </tr>\n",
       "    <tr>\n",
       "      <th>mean</th>\n",
       "      <td>29088.500000</td>\n",
       "      <td>2.475076</td>\n",
       "      <td>0.005458</td>\n",
       "    </tr>\n",
       "    <tr>\n",
       "      <th>std</th>\n",
       "      <td>16794.686317</td>\n",
       "      <td>1.156493</td>\n",
       "      <td>0.004179</td>\n",
       "    </tr>\n",
       "    <tr>\n",
       "      <th>min</th>\n",
       "      <td>0.000000</td>\n",
       "      <td>1.000000</td>\n",
       "      <td>0.000150</td>\n",
       "    </tr>\n",
       "    <tr>\n",
       "      <th>25%</th>\n",
       "      <td>14544.250000</td>\n",
       "      <td>2.000000</td>\n",
       "      <td>0.002755</td>\n",
       "    </tr>\n",
       "    <tr>\n",
       "      <th>50%</th>\n",
       "      <td>29088.500000</td>\n",
       "      <td>2.000000</td>\n",
       "      <td>0.004424</td>\n",
       "    </tr>\n",
       "    <tr>\n",
       "      <th>75%</th>\n",
       "      <td>43632.750000</td>\n",
       "      <td>3.000000</td>\n",
       "      <td>0.006970</td>\n",
       "    </tr>\n",
       "    <tr>\n",
       "      <th>max</th>\n",
       "      <td>58177.000000</td>\n",
       "      <td>10.000000</td>\n",
       "      <td>0.159480</td>\n",
       "    </tr>\n",
       "  </tbody>\n",
       "</table>\n",
       "</div>"
      ],
      "text/plain": [
       "             img_id    object_num box_mean_size\n",
       "count  58178.000000  58178.000000  58178.000000\n",
       "mean   29088.500000      2.475076      0.005458\n",
       "std    16794.686317      1.156493      0.004179\n",
       "min        0.000000      1.000000      0.000150\n",
       "25%    14544.250000      2.000000      0.002755\n",
       "50%    29088.500000      2.000000      0.004424\n",
       "75%    43632.750000      3.000000      0.006970\n",
       "max    58177.000000     10.000000      0.159480"
      ]
     },
     "execution_count": 458,
     "metadata": {},
     "output_type": "execute_result"
    }
   ],
   "source": [
    "label_img_df.describe() # box_mean_size만 4등분하여 4개의 class로 분류"
   ]
  },
  {
   "cell_type": "code",
   "execution_count": 459,
   "id": "cb77a35f-d4c3-45c2-b506-bf84ec206861",
   "metadata": {},
   "outputs": [
    {
     "data": {
      "text/html": [
       "<div>\n",
       "<style scoped>\n",
       "    .dataframe tbody tr th:only-of-type {\n",
       "        vertical-align: middle;\n",
       "    }\n",
       "\n",
       "    .dataframe tbody tr th {\n",
       "        vertical-align: top;\n",
       "    }\n",
       "\n",
       "    .dataframe thead tr th {\n",
       "        text-align: left;\n",
       "    }\n",
       "</style>\n",
       "<table border=\"1\" class=\"dataframe\">\n",
       "  <thead>\n",
       "    <tr>\n",
       "      <th></th>\n",
       "      <th>img_id</th>\n",
       "      <th>img_name</th>\n",
       "      <th>object_num</th>\n",
       "      <th>box_mean_size</th>\n",
       "      <th>session</th>\n",
       "      <th>box_class_list</th>\n",
       "      <th>box_mean_size_class</th>\n",
       "    </tr>\n",
       "  </thead>\n",
       "  <tbody>\n",
       "    <tr>\n",
       "      <th>0</th>\n",
       "      <td>0</td>\n",
       "      <td>10_hik_204_1662356574.mov_280</td>\n",
       "      <td>3</td>\n",
       "      <td>0.001357</td>\n",
       "      <td>10</td>\n",
       "      <td>[96, 95, 98]</td>\n",
       "      <td>0</td>\n",
       "    </tr>\n",
       "    <tr>\n",
       "      <th>1</th>\n",
       "      <td>1</td>\n",
       "      <td>11_hik_204_1662358535.mov_1852</td>\n",
       "      <td>2</td>\n",
       "      <td>0.004645</td>\n",
       "      <td>11</td>\n",
       "      <td>[108, 108]</td>\n",
       "      <td>2</td>\n",
       "    </tr>\n",
       "    <tr>\n",
       "      <th>2</th>\n",
       "      <td>2</td>\n",
       "      <td>9_hik_205_1662348299.mov_3328</td>\n",
       "      <td>2</td>\n",
       "      <td>0.004400</td>\n",
       "      <td>9</td>\n",
       "      <td>[93, 87]</td>\n",
       "      <td>1</td>\n",
       "    </tr>\n",
       "    <tr>\n",
       "      <th>3</th>\n",
       "      <td>3</td>\n",
       "      <td>5_hik_203_1658977700.mov_2295</td>\n",
       "      <td>1</td>\n",
       "      <td>0.010570</td>\n",
       "      <td>5</td>\n",
       "      <td>[49]</td>\n",
       "      <td>3</td>\n",
       "    </tr>\n",
       "    <tr>\n",
       "      <th>4</th>\n",
       "      <td>4</td>\n",
       "      <td>4_hik_205_1658973309.mov_165</td>\n",
       "      <td>2</td>\n",
       "      <td>0.003005</td>\n",
       "      <td>4</td>\n",
       "      <td>[42, 43]</td>\n",
       "      <td>1</td>\n",
       "    </tr>\n",
       "  </tbody>\n",
       "</table>\n",
       "</div>"
      ],
      "text/plain": [
       "  img_id                        img_name object_num box_mean_size session  \\\n",
       "0      0   10_hik_204_1662356574.mov_280          3      0.001357      10   \n",
       "1      1  11_hik_204_1662358535.mov_1852          2      0.004645      11   \n",
       "2      2   9_hik_205_1662348299.mov_3328          2      0.004400       9   \n",
       "3      3   5_hik_203_1658977700.mov_2295          1      0.010570       5   \n",
       "4      4    4_hik_205_1658973309.mov_165          2      0.003005       4   \n",
       "\n",
       "  box_class_list box_mean_size_class  \n",
       "0   [96, 95, 98]                   0  \n",
       "1     [108, 108]                   2  \n",
       "2       [93, 87]                   1  \n",
       "3           [49]                   3  \n",
       "4       [42, 43]                   1  "
      ]
     },
     "execution_count": 459,
     "metadata": {},
     "output_type": "execute_result"
    }
   ],
   "source": [
    "box_mean_size_class_list = []\n",
    "for i,row in label_img_df.iterrows():\n",
    "    box_mean_size = row['box_mean_size']\n",
    "    if box_mean_size < 0.002755:\n",
    "        box_mean_size_class_list.append(0)\n",
    "    elif box_mean_size < 0.004424:\n",
    "        box_mean_size_class_list.append(1)\n",
    "    elif box_mean_size < 0.006970:\n",
    "        box_mean_size_class_list.append(2)\n",
    "    else:\n",
    "        box_mean_size_class_list.append(3)\n",
    "label_img_df['box_mean_size_class'] = box_mean_size_class_list\n",
    "label_img_df.head()"
   ]
  },
  {
   "cell_type": "code",
   "execution_count": null,
   "id": "ee307e2c-ac88-4bb3-9036-444a1e2dae6f",
   "metadata": {},
   "outputs": [],
   "source": []
  },
  {
   "cell_type": "markdown",
   "id": "8dfaa4e4-bc12-438e-94aa-3876629be0b7",
   "metadata": {},
   "source": [
    "### mutlilabel stf k fold 진행"
   ]
  },
  {
   "cell_type": "code",
   "execution_count": 206,
   "id": "f3983e55-64ae-4b15-ba8e-4f569a225333",
   "metadata": {},
   "outputs": [],
   "source": [
    "# !pip install iterative-stratification"
   ]
  },
  {
   "cell_type": "code",
   "execution_count": 460,
   "id": "5210dc61-22b5-4185-8ff6-ed77b3e74915",
   "metadata": {},
   "outputs": [
    {
     "name": "stdout",
     "output_type": "stream",
     "text": [
      "TRAIN: [array([ 1,  5,  6,  8, 11, 12, 15, 17, 18, 19])]\n",
      " TEST: [array([ 0,  2,  3,  4,  7,  9, 10, 13, 14, 16])]\n",
      "TRAIN: [array([ 0,  2,  3,  4,  7,  9, 10, 13, 14, 16])]\n",
      " TEST: [array([ 1,  5,  6,  8, 11, 12, 15, 17, 18, 19])]\n"
     ]
    }
   ],
   "source": [
    "from iterstrat.ml_stratifiers import MultilabelStratifiedKFold\n",
    "\n",
    "cv = MultilabelStratifiedKFold(n_splits=2, shuffle=True, random_state=41)\n",
    "\n",
    "for fold_ind, (train_idx, val_idx) in enumerate(cv.split(label_img_df, label_img_df[['object_num', 'session', 'box_mean_size_class']])):\n",
    "    \n",
    "    print(\"TRAIN:\", [train_idx[:10]])\n",
    "    print(\" TEST:\", [val_idx[:10]])"
   ]
  },
  {
   "cell_type": "code",
   "execution_count": 461,
   "id": "3c7e82a2-e655-4418-9a51-f203f006feeb",
   "metadata": {},
   "outputs": [
    {
     "name": "stderr",
     "output_type": "stream",
     "text": [
      "58178it [00:03, 15018.94it/s]\n"
     ]
    },
    {
     "data": {
      "text/plain": [
       "143995"
      ]
     },
     "execution_count": 461,
     "metadata": {},
     "output_type": "execute_result"
    }
   ],
   "source": [
    "# 전체 label 분포 확인\n",
    "all_label_count_list = [0 for _ in range(124)]\n",
    "for i, row in tqdm(label_img_df.iterrows()):\n",
    "    for box_class in row['box_class_list']:\n",
    "        bbox_class = int(box_class)\n",
    "        all_label_count_list[bbox_class] += 1\n",
    "sum(all_label_count_list) # 전체 bbox 개수"
   ]
  },
  {
   "cell_type": "code",
   "execution_count": 462,
   "id": "9afb4b15-f749-4ed0-9072-59a422a41d96",
   "metadata": {},
   "outputs": [
    {
     "name": "stderr",
     "output_type": "stream",
     "text": [
      "58178it [00:05, 10570.19it/s]\n"
     ]
    },
    {
     "data": {
      "text/plain": [
       "72076"
      ]
     },
     "execution_count": 462,
     "metadata": {},
     "output_type": "execute_result"
    }
   ],
   "source": [
    "train_label_count_list = [0 for _ in range(124)]\n",
    "for i, row in tqdm(label_img_df.iterrows()):\n",
    "    if row['img_id'] not in train_idx:\n",
    "        continue\n",
    "    for box_class in row['box_class_list']:\n",
    "        bbox_class = int(box_class)\n",
    "        train_label_count_list[bbox_class] += 1\n",
    "sum(train_label_count_list) # 전체 bbox 개수"
   ]
  },
  {
   "cell_type": "code",
   "execution_count": 463,
   "id": "d01443d9-4acf-472d-aa69-ea087eeed21c",
   "metadata": {},
   "outputs": [
    {
     "name": "stderr",
     "output_type": "stream",
     "text": [
      "58178it [00:05, 10554.37it/s]\n"
     ]
    },
    {
     "data": {
      "text/plain": [
       "71919"
      ]
     },
     "execution_count": 463,
     "metadata": {},
     "output_type": "execute_result"
    }
   ],
   "source": [
    "val_label_count_list = [0 for _ in range(124)]\n",
    "for i, row in tqdm(label_img_df.iterrows()):\n",
    "    if row['img_id'] not in val_idx:\n",
    "        continue\n",
    "    for box_class in row['box_class_list']:\n",
    "        bbox_class = int(box_class)\n",
    "        val_label_count_list[bbox_class] += 1\n",
    "sum(val_label_count_list) # 전체 bbox 개수"
   ]
  },
  {
   "cell_type": "code",
   "execution_count": 464,
   "id": "d3605959-e0cb-494a-a031-d56eafcd234e",
   "metadata": {},
   "outputs": [
    {
     "data": {
      "text/plain": [
       "143995"
      ]
     },
     "execution_count": 464,
     "metadata": {},
     "output_type": "execute_result"
    }
   ],
   "source": [
    "72076 + 71919 # 143995 나오면 제대로 계산된것"
   ]
  },
  {
   "cell_type": "code",
   "execution_count": 465,
   "id": "739b6694-531c-42ae-b956-055a7bddacbe",
   "metadata": {},
   "outputs": [],
   "source": [
    "all_label_count_list = [i/143995 for i in all_label_count_list] # 비율로 수정\n",
    "train_label_count_list = [i/72076 for i in train_label_count_list] # 비율로 수정\n",
    "val_label_count_list = [i/71919 for i in val_label_count_list] # 비율로 수정"
   ]
  },
  {
   "cell_type": "code",
   "execution_count": 466,
   "id": "e3f7ca73-4295-4ed7-8812-cf722d169816",
   "metadata": {},
   "outputs": [],
   "source": [
    "# 기존 train과의 각 class별 분포 차이의 누적을 계산하여 train과 val 중, class 분포 차이의 누적이 더 작은 것을 subset으로 선택\n",
    "all_train_gap_list = [abs(all_label_count_list[i]-train_label_count_list[i]) for i in range(len(all_label_count_list))]\n",
    "all_val_gap_list = [abs(all_label_count_list[i]-val_label_count_list[i]) for i in range(len(all_label_count_list))]"
   ]
  },
  {
   "cell_type": "code",
   "execution_count": 467,
   "id": "30f061cf-7517-4561-823f-cfc76a5b8c84",
   "metadata": {},
   "outputs": [
    {
     "name": "stdout",
     "output_type": "stream",
     "text": [
      "all과 train과의 class 분포 차이의 누적 0.022688988654118485\n",
      "all과 val과의 class 분포 차이의 누적 0.022738518975990288\n"
     ]
    }
   ],
   "source": [
    "# 124개의 각각의 class에서의 분포 차이의 누적이 약 2%정도 인것으로 보아 잘 나누어진듯\n",
    "print('all과 train과의 class 분포 차이의 누적', sum(all_train_gap_list))\n",
    "print('all과 val과의 class 분포 차이의 누적', sum(all_val_gap_list))"
   ]
  },
  {
   "cell_type": "markdown",
   "id": "340f4102-bcab-4f0f-9e42-40bd5cfd34b1",
   "metadata": {},
   "source": [
    "- train의 all과의 분포차이가 조금 더 작으므로 train을 subset으로 선정"
   ]
  },
  {
   "cell_type": "markdown",
   "id": "96635314-403d-4d0f-9011-3c033f4f3d88",
   "metadata": {},
   "source": [
    "### 생성한 subset(all의 절반)을 다시 한번 더 5개의 fold로 multilabel stf kfold 나누어 train과 val을 8:2로 split"
   ]
  },
  {
   "cell_type": "code",
   "execution_count": 468,
   "id": "5c55d033-e89a-443b-9d74-a9eab651da2d",
   "metadata": {},
   "outputs": [
    {
     "data": {
      "text/plain": [
       "29089"
      ]
     },
     "execution_count": 468,
     "metadata": {},
     "output_type": "execute_result"
    }
   ],
   "source": [
    "subset_index = list(train_idx)\n",
    "len(subset_index)"
   ]
  },
  {
   "cell_type": "code",
   "execution_count": 469,
   "id": "003d43d0-309f-4fab-8d57-abe2af8a94c0",
   "metadata": {},
   "outputs": [
    {
     "data": {
      "text/plain": [
       "(29089, 7)"
      ]
     },
     "execution_count": 469,
     "metadata": {},
     "output_type": "execute_result"
    }
   ],
   "source": [
    "subset_df = label_img_df.loc[subset_index]\n",
    "subset_df.shape"
   ]
  },
  {
   "cell_type": "code",
   "execution_count": 470,
   "id": "607d6d89-6c96-422a-839b-13d2ddf7010c",
   "metadata": {},
   "outputs": [],
   "source": [
    "## subset의 class 분포 \n",
    "subset_label_count_list = train_label_count_list.copy()"
   ]
  },
  {
   "cell_type": "code",
   "execution_count": 471,
   "id": "8593fac9-d9bb-4b4c-879c-c62bfcf0f040",
   "metadata": {},
   "outputs": [
    {
     "name": "stdout",
     "output_type": "stream",
     "text": [
      "TRAIN: [array([ 0,  1,  2,  3,  5,  6,  7,  9, 10, 11])]\n",
      " TEST: [array([ 4,  8, 20, 30, 36, 37, 38, 42, 46, 61])]\n",
      "TRAIN: [array([ 1,  2,  3,  4,  5,  6,  7,  8,  9, 10])]\n",
      " TEST: [array([ 0, 13, 17, 21, 23, 27, 28, 32, 35, 44])]\n",
      "TRAIN: [array([ 0,  1,  3,  4,  5,  6,  7,  8, 10, 13])]\n",
      " TEST: [array([ 2,  9, 11, 12, 18, 22, 24, 31, 40, 45])]\n",
      "TRAIN: [array([ 0,  2,  3,  4,  7,  8,  9, 10, 11, 12])]\n",
      " TEST: [array([ 1,  5,  6, 16, 29, 33, 34, 39, 43, 66])]\n",
      "TRAIN: [array([ 0,  1,  2,  4,  5,  6,  8,  9, 11, 12])]\n",
      " TEST: [array([ 3,  7, 10, 14, 15, 19, 25, 26, 41, 47])]\n"
     ]
    }
   ],
   "source": [
    "cv = MultilabelStratifiedKFold(n_splits=5, shuffle=True, random_state=41)\n",
    "subset_validation_gap_list = [] # 각 index별로, 각 split의 분포 차이 값들어감, idx0=split0\n",
    "train_validation_gap_list = [] # 각 index별로, 각 split의 분포 차이 값들어감, idx0=split0\n",
    "for fold_ind, (train_idx, val_idx) in enumerate(cv.split(subset_df, subset_df[['object_num', 'session', 'box_mean_size_class']])):\n",
    "    \n",
    "    # class 개수 count\n",
    "    train_label_count_list = [0 for _ in range(124)]\n",
    "    for i, row in subset_df.iterrows():\n",
    "        if row['img_id'] not in train_idx:\n",
    "            continue\n",
    "        for box_class in row['box_class_list']:\n",
    "            bbox_class = int(box_class)\n",
    "            train_label_count_list[bbox_class] += 1\n",
    "            \n",
    "            \n",
    "    val_label_count_list = [0 for _ in range(124)]\n",
    "    for i, row in subset_df.iterrows():\n",
    "        if row['img_id'] not in val_idx:\n",
    "            continue\n",
    "        for box_class in row['box_class_list']:\n",
    "            bbox_class = int(box_class)\n",
    "            val_label_count_list[bbox_class] += 1\n",
    "            \n",
    "    # 비율로 수정\n",
    "    train_label_count_list = [i/sum(train_label_count_list) for i in train_label_count_list] \n",
    "    val_label_count_list = [i/sum(val_label_count_list) for i in val_label_count_list] \n",
    "    \n",
    "    # subset(기존) 과의 class 분포 차이 \n",
    "    subset_val_gap_list = [abs(subset_label_count_list[i]-val_label_count_list[i]) for i in range(len(val_label_count_list))]\n",
    "    \n",
    "    # train과 val과의 class 분포 차이\n",
    "    train_val_gap_list = [abs(train_label_count_list[i]-val_label_count_list[i]) for i in range(len(val_label_count_list))]\n",
    "\n",
    "    # split별 분포 차이 값 저장\n",
    "    subset_validation_gap_list.append(sum(subset_val_gap_list))\n",
    "    train_validation_gap_list.append(sum(train_val_gap_list))\n",
    "    \n",
    "    print(\"TRAIN:\", [train_idx[:10]])\n",
    "    print(\" TEST:\", [val_idx[:10]])"
   ]
  },
  {
   "cell_type": "code",
   "execution_count": 472,
   "id": "ef6b03e7-6984-4ca5-a253-1f133c33673a",
   "metadata": {},
   "outputs": [
    {
     "data": {
      "text/plain": [
       "[0.11314574723857473,\n",
       " 0.11256823087833619,\n",
       " 0.10579449894729644,\n",
       " 0.10125782915684145,\n",
       " 0.10525734878917632]"
      ]
     },
     "execution_count": 472,
     "metadata": {},
     "output_type": "execute_result"
    }
   ],
   "source": [
    "subset_validation_gap_list # subset과의 차이"
   ]
  },
  {
   "cell_type": "code",
   "execution_count": 473,
   "id": "e4ffe93a-88ef-4e01-8472-2e5575489686",
   "metadata": {},
   "outputs": [
    {
     "data": {
      "text/plain": [
       "[0.13253110411499652,\n",
       " 0.12883472064656465,\n",
       " 0.11919501404701233,\n",
       " 0.12032240678474256,\n",
       " 0.12680114018890096]"
      ]
     },
     "execution_count": 473,
     "metadata": {},
     "output_type": "execute_result"
    }
   ],
   "source": [
    "train_validation_gap_list # splot 내 train과 val의 차이"
   ]
  },
  {
   "cell_type": "markdown",
   "id": "df111283-65c3-4693-b620-59290c40b89b",
   "metadata": {},
   "source": [
    "- 기존 subset과의 분포 차이가 가장 작으면서, 나누어진 split내의 train과 val간의 분포차이가 가장 작은 split3(4번째 split) 선택"
   ]
  },
  {
   "cell_type": "code",
   "execution_count": 475,
   "id": "4a5cd34b-2040-4ead-bc7f-cb8e0b10331e",
   "metadata": {},
   "outputs": [
    {
     "data": {
      "text/plain": [
       "0.09703419901995368"
      ]
     },
     "execution_count": 475,
     "metadata": {},
     "output_type": "execute_result"
    }
   ],
   "source": [
    "0.12032240678474256/124 * 100 # 각 class 별로 평균 0.09%정도의 분포차이 -> 잘 나눠진듯"
   ]
  },
  {
   "cell_type": "code",
   "execution_count": null,
   "id": "7eff645c-4f73-4553-aa1e-f375dd831a05",
   "metadata": {},
   "outputs": [],
   "source": []
  },
  {
   "cell_type": "code",
   "execution_count": 476,
   "id": "7c66d282-dd62-4396-bb8d-20a48a30e9f2",
   "metadata": {},
   "outputs": [
    {
     "name": "stdout",
     "output_type": "stream",
     "text": [
      "[ 0  2  3  4  7  8  9 10 11 12]\n",
      "[ 1  5  6 16 29 33 34 39 43 66]\n",
      "train length: 23271, val length: 5818\n"
     ]
    }
   ],
   "source": [
    "cv = MultilabelStratifiedKFold(n_splits=5, shuffle=True, random_state=41)\n",
    "for fold_ind, (train_idx, val_idx) in enumerate(cv.split(subset_df, subset_df[['object_num', 'session', 'box_mean_size_class']])):\n",
    "    \n",
    "    if fold_ind==3:\n",
    "        fold3_best_train = train_idx\n",
    "        fold3_best_val = val_idx\n",
    "    \n",
    "print(fold3_best_train[:10])\n",
    "print(fold3_best_val[:10])\n",
    "train_idx_list = fold3_best_train\n",
    "val_idx_list = fold3_best_val\n",
    "print(f'train length: {len(train_idx_list)}, val length: {len(val_idx_list)}')\n",
    "# train, val 각각으로 사용할 image index 추출"
   ]
  },
  {
   "cell_type": "code",
   "execution_count": 477,
   "id": "775f0f39-4304-4bde-bce8-a90c19f100ff",
   "metadata": {},
   "outputs": [],
   "source": [
    "subset_df = subset_df.reset_index()\n",
    "subset_df = subset_df.reset_index()"
   ]
  },
  {
   "cell_type": "code",
   "execution_count": 478,
   "id": "0cb7a822-d642-46de-a81a-0ae758481250",
   "metadata": {},
   "outputs": [
    {
     "data": {
      "text/html": [
       "<div>\n",
       "<style scoped>\n",
       "    .dataframe tbody tr th:only-of-type {\n",
       "        vertical-align: middle;\n",
       "    }\n",
       "\n",
       "    .dataframe tbody tr th {\n",
       "        vertical-align: top;\n",
       "    }\n",
       "\n",
       "    .dataframe thead tr th {\n",
       "        text-align: left;\n",
       "    }\n",
       "</style>\n",
       "<table border=\"1\" class=\"dataframe\">\n",
       "  <thead>\n",
       "    <tr>\n",
       "      <th></th>\n",
       "      <th>new_img_id</th>\n",
       "      <th>index</th>\n",
       "      <th>img_id</th>\n",
       "      <th>img_name</th>\n",
       "      <th>object_num</th>\n",
       "      <th>box_mean_size</th>\n",
       "      <th>session</th>\n",
       "      <th>box_class_list</th>\n",
       "      <th>box_mean_size_class</th>\n",
       "    </tr>\n",
       "  </thead>\n",
       "  <tbody>\n",
       "    <tr>\n",
       "      <th>0</th>\n",
       "      <td>0</td>\n",
       "      <td>0</td>\n",
       "      <td>0</td>\n",
       "      <td>10_hik_204_1662356574.mov_280</td>\n",
       "      <td>3</td>\n",
       "      <td>0.001357</td>\n",
       "      <td>10</td>\n",
       "      <td>[96, 95, 98]</td>\n",
       "      <td>0</td>\n",
       "    </tr>\n",
       "    <tr>\n",
       "      <th>1</th>\n",
       "      <td>1</td>\n",
       "      <td>2</td>\n",
       "      <td>2</td>\n",
       "      <td>9_hik_205_1662348299.mov_3328</td>\n",
       "      <td>2</td>\n",
       "      <td>0.004400</td>\n",
       "      <td>9</td>\n",
       "      <td>[93, 87]</td>\n",
       "      <td>1</td>\n",
       "    </tr>\n",
       "    <tr>\n",
       "      <th>2</th>\n",
       "      <td>2</td>\n",
       "      <td>3</td>\n",
       "      <td>3</td>\n",
       "      <td>5_hik_203_1658977700.mov_2295</td>\n",
       "      <td>1</td>\n",
       "      <td>0.010570</td>\n",
       "      <td>5</td>\n",
       "      <td>[49]</td>\n",
       "      <td>3</td>\n",
       "    </tr>\n",
       "    <tr>\n",
       "      <th>3</th>\n",
       "      <td>3</td>\n",
       "      <td>4</td>\n",
       "      <td>4</td>\n",
       "      <td>4_hik_205_1658973309.mov_165</td>\n",
       "      <td>2</td>\n",
       "      <td>0.003005</td>\n",
       "      <td>4</td>\n",
       "      <td>[42, 43]</td>\n",
       "      <td>1</td>\n",
       "    </tr>\n",
       "    <tr>\n",
       "      <th>4</th>\n",
       "      <td>4</td>\n",
       "      <td>7</td>\n",
       "      <td>7</td>\n",
       "      <td>9_hik_203_1662348669.mov_3288</td>\n",
       "      <td>3</td>\n",
       "      <td>0.001357</td>\n",
       "      <td>9</td>\n",
       "      <td>[91, 86, 91]</td>\n",
       "      <td>0</td>\n",
       "    </tr>\n",
       "  </tbody>\n",
       "</table>\n",
       "</div>"
      ],
      "text/plain": [
       "  new_img_id index img_id                       img_name object_num  \\\n",
       "0          0     0      0  10_hik_204_1662356574.mov_280          3   \n",
       "1          1     2      2  9_hik_205_1662348299.mov_3328          2   \n",
       "2          2     3      3  5_hik_203_1658977700.mov_2295          1   \n",
       "3          3     4      4   4_hik_205_1658973309.mov_165          2   \n",
       "4          4     7      7  9_hik_203_1662348669.mov_3288          3   \n",
       "\n",
       "  box_mean_size session box_class_list box_mean_size_class  \n",
       "0      0.001357      10   [96, 95, 98]                   0  \n",
       "1      0.004400       9       [93, 87]                   1  \n",
       "2      0.010570       5           [49]                   3  \n",
       "3      0.003005       4       [42, 43]                   1  \n",
       "4      0.001357       9   [91, 86, 91]                   0  "
      ]
     },
     "execution_count": 478,
     "metadata": {},
     "output_type": "execute_result"
    }
   ],
   "source": [
    "subset_df.rename(columns={'level_0':'new_img_id'}, inplace=True)\n",
    "subset_df.head()"
   ]
  },
  {
   "cell_type": "code",
   "execution_count": 479,
   "id": "7d9d9094-c315-400f-a61e-3d04deabd966",
   "metadata": {},
   "outputs": [],
   "source": [
    "multi_train_df = subset_df.loc[list(train_idx_list)]\n",
    "multi_val_df = subset_df.loc[list(val_idx_list)]"
   ]
  },
  {
   "cell_type": "code",
   "execution_count": 480,
   "id": "e4ea1e71-da63-4302-8430-1d68a38e8518",
   "metadata": {},
   "outputs": [
    {
     "data": {
      "text/plain": [
       "(23271, 5818)"
      ]
     },
     "execution_count": 480,
     "metadata": {},
     "output_type": "execute_result"
    }
   ],
   "source": [
    "len(multi_train_df), len(multi_val_df)"
   ]
  },
  {
   "cell_type": "code",
   "execution_count": 482,
   "id": "722d8be3-e8e3-4c88-9beb-4f62c3a0463f",
   "metadata": {},
   "outputs": [
    {
     "name": "stdout",
     "output_type": "stream",
     "text": [
      "train [0.25, 0.252, 0.247, 0.251] \n",
      "\n",
      "val [0.25, 0.243, 0.255, 0.252]\n"
     ]
    }
   ],
   "source": [
    "# box_mean_size_class 잘 나누어졌는지 확인\n",
    "train_bbox_size_list = multi_train_df.box_mean_size_class.value_counts().sort_index().to_list()\n",
    "train_bbox_size_ratio = [round(i/23271,3) for i in train_bbox_size_list]\n",
    "\n",
    "val_bbox_size_list = multi_val_df.box_mean_size_class.value_counts().sort_index().to_list()\n",
    "val_bbox_size_ratio = [round(i/5818,3) for i in val_bbox_size_list] \n",
    "\n",
    "print('train',train_bbox_size_ratio,'\\n')\n",
    "print('val',val_bbox_size_ratio)"
   ]
  },
  {
   "cell_type": "code",
   "execution_count": 483,
   "id": "aae38b3a-22b1-4fbb-819b-b19b25221fd6",
   "metadata": {},
   "outputs": [
    {
     "name": "stdout",
     "output_type": "stream",
     "text": [
      "train [0.239, 0.281, 0.293, 0.152, 0.023, 0.007, 0.003, 0.001, 0.0] \n",
      "\n",
      "val [0.229, 0.299, 0.287, 0.152, 0.022, 0.006, 0.003, 0.001, 0.0]\n"
     ]
    }
   ],
   "source": [
    "# object_num이 잘 나누어졌는지 확인\n",
    "train_object_num_class_list = multi_train_df.object_num.value_counts().sort_index().to_list()\n",
    "train_object_num_class_ratio = [round(i/23271,3) for i in train_object_num_class_list]\n",
    "\n",
    "val_object_num_list = multi_val_df.object_num.value_counts().sort_index().to_list()\n",
    "val_object_num_ratio = [round(i/5818,3) for i in val_object_num_list] \n",
    "\n",
    "print('train',train_object_num_class_ratio,'\\n')\n",
    "print('val',val_object_num_ratio)"
   ]
  },
  {
   "cell_type": "code",
   "execution_count": 484,
   "id": "dc2d7209-d558-4fad-bc98-9a1a968c7875",
   "metadata": {},
   "outputs": [
    {
     "name": "stdout",
     "output_type": "stream",
     "text": [
      "train [0.098, 0.071, 0.067, 0.07, 0.07, 0.063, 0.069, 0.065, 0.073, 0.108, 0.101, 0.07, 0.076] \n",
      "\n",
      "val [0.098, 0.076, 0.071, 0.065, 0.074, 0.06, 0.07, 0.061, 0.065, 0.107, 0.105, 0.069, 0.079]\n"
     ]
    }
   ],
   "source": [
    "# session가 잘 나누어졌는지 확인\n",
    "train_session_list = multi_train_df.session.value_counts().sort_index().to_list()\n",
    "train_session_ratio = [round(i/23271,3) for i in train_session_list]\n",
    "\n",
    "val_session_list = multi_val_df.session.value_counts().sort_index().to_list()\n",
    "val_session_ratio = [round(i/5818,3) for i in val_session_list] \n",
    "\n",
    "print('train',train_session_ratio,'\\n')\n",
    "print('val',val_session_ratio)"
   ]
  },
  {
   "cell_type": "markdown",
   "id": "ca3a5327-0f13-4bb6-8f3d-16a1829929f2",
   "metadata": {},
   "source": [
    "- 모두 고르게 잘 나누어졌으므로 txt파일 생성"
   ]
  },
  {
   "cell_type": "code",
   "execution_count": 490,
   "id": "3e29a349-b09c-4333-87f7-7648cac35280",
   "metadata": {},
   "outputs": [
    {
     "data": {
      "text/plain": [
       "(675, 7596)"
      ]
     },
     "execution_count": 490,
     "metadata": {},
     "output_type": "execute_result"
    }
   ],
   "source": [
    "# label이 없는 이미지도 FP 줄이기 위해 비율(10%) 유지하여 추가(합쳐진 train data의 10% : 약 2585개)\n",
    "len(empty_txt_img_list), len(no_label_img_list) # empty_txt_img_list만 이용하는게 나으려나"
   ]
  },
  {
   "cell_type": "code",
   "execution_count": 519,
   "id": "11df4cf5-31a8-4087-af59-34630ab0f5f1",
   "metadata": {},
   "outputs": [
    {
     "data": {
      "text/plain": [
       "'7_hik_205_1658988715.mov_345.jpg'"
      ]
     },
     "execution_count": 519,
     "metadata": {},
     "output_type": "execute_result"
    }
   ],
   "source": [
    "empty_txt_img_list[0]"
   ]
  },
  {
   "cell_type": "code",
   "execution_count": 491,
   "id": "c2f22440-ec0b-4f6e-b57c-53aaa89a1c9a",
   "metadata": {},
   "outputs": [],
   "source": [
    "no_label_img_list.extend(empty_txt_img_list)"
   ]
  },
  {
   "cell_type": "code",
   "execution_count": 492,
   "id": "a422ebbf-29df-47b5-9a1d-c3dd2ac344de",
   "metadata": {},
   "outputs": [
    {
     "data": {
      "text/plain": [
       "8271"
      ]
     },
     "execution_count": 492,
     "metadata": {},
     "output_type": "execute_result"
    }
   ],
   "source": [
    "len(no_label_img_list)"
   ]
  },
  {
   "cell_type": "code",
   "execution_count": 493,
   "id": "1d0ffec0-a886-4c6d-9cec-61a36f9b8e01",
   "metadata": {},
   "outputs": [
    {
     "data": {
      "text/plain": [
       "['4_hik_203_1658972857.mov_4650.jpg',\n",
       " '3rd Run_1_4968_hanwha_249.mp4_8880.jpg',\n",
       " '11_hik_205_1662359355.mov_1144.jpg',\n",
       " '3rd Run_1_4969_hik_246.mp4_1170.jpg',\n",
       " '11_hik_205_1662360339.mov_2388.jpg',\n",
       " '10_hik_204_1662357506.mov_24.jpg',\n",
       " '9_hik_205_1662354443.mov_2628.jpg',\n",
       " '7_hik_203_1658989795.mov_1320.jpg',\n",
       " '3rd Run_1_4974_hik_246.mp4_2700.jpg',\n",
       " '5_hik_203_1658977700.mov_1395.jpg']"
      ]
     },
     "execution_count": 493,
     "metadata": {},
     "output_type": "execute_result"
    }
   ],
   "source": [
    "# random하게 섞은 후 리스트 앞 3222개 추출하여 추가\n",
    "import random\n",
    "random.seed(41)\n",
    "random.shuffle(no_label_img_list)\n",
    "no_label_img_list[:10]"
   ]
  },
  {
   "cell_type": "code",
   "execution_count": null,
   "id": "65e17b0b-7ffc-448b-ad75-0d600ecc6a62",
   "metadata": {},
   "outputs": [],
   "source": []
  },
  {
   "cell_type": "code",
   "execution_count": 518,
   "id": "cf8bd1da-1f6e-4351-a5e2-5d12dad5d57b",
   "metadata": {},
   "outputs": [
    {
     "name": "stdout",
     "output_type": "stream",
     "text": [
      "3_hik_203_1658888182.mov_15.jpg\n"
     ]
    }
   ],
   "source": [
    "for i in no_label_img_list:\n",
    "    \n",
    "    if i == '3_hik_203_1658888182.mov_15.jpg':\n",
    "        print(i)"
   ]
  },
  {
   "cell_type": "code",
   "execution_count": 494,
   "id": "48dc567b-c42a-4a9e-b855-3f1cbf91ec21",
   "metadata": {},
   "outputs": [],
   "source": [
    "with open('/opt/ml/pkt_train_124.txt', 'w') as f:\n",
    "    for i, row in multi_train_df.iterrows():\n",
    "        img_name = row['img_name']\n",
    "        img_path = 'dataset/images/' + img_name + '.jpg\\n'\n",
    "        f.write(img_path)\n",
    "    for j in range(2585):\n",
    "        no_label_img_path = 'dataset/images/' + no_label_img_list[j] + '\\n'\n",
    "        f.write(no_label_img_path)"
   ]
  },
  {
   "cell_type": "code",
   "execution_count": 495,
   "id": "37986b4f-8e8f-423b-b858-424a535d2135",
   "metadata": {},
   "outputs": [],
   "source": [
    "with open('/opt/ml/nolableimage_used_in_pkt_train_124.txt', 'w') as f:\n",
    "    for j in range(2585):\n",
    "        no_label_img_path = 'dataset/images/' + no_label_img_list[j] + '\\n'\n",
    "        f.write(no_label_img_path)"
   ]
  },
  {
   "cell_type": "code",
   "execution_count": 496,
   "id": "3637630d-77fc-403d-975c-f2edc491a9de",
   "metadata": {},
   "outputs": [],
   "source": [
    "with open('/opt/ml/pkt_val_124.txt', 'w') as f:\n",
    "    for i, row in multi_val_df.iterrows():\n",
    "        img_name = row['img_name']\n",
    "        img_path = 'dataset/images/' + img_name + '.jpg\\n'\n",
    "        f.write(img_path)"
   ]
  },
  {
   "cell_type": "code",
   "execution_count": 498,
   "id": "7bf86405-e296-4ed9-b1dc-b4b88689fe8b",
   "metadata": {},
   "outputs": [
    {
     "data": {
      "text/plain": [
       "25856"
      ]
     },
     "execution_count": 498,
     "metadata": {},
     "output_type": "execute_result"
    }
   ],
   "source": [
    "23271+2585"
   ]
  }
 ],
 "metadata": {
  "kernelspec": {
   "display_name": "Python 3 (ipykernel)",
   "language": "python",
   "name": "python3"
  },
  "language_info": {
   "codemirror_mode": {
    "name": "ipython",
    "version": 3
   },
   "file_extension": ".py",
   "mimetype": "text/x-python",
   "name": "python",
   "nbconvert_exporter": "python",
   "pygments_lexer": "ipython3",
   "version": "3.8.5"
  }
 },
 "nbformat": 4,
 "nbformat_minor": 5
}
