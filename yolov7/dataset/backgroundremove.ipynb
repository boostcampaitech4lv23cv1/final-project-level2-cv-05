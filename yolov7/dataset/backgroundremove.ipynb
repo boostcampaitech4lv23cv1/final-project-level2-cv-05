{
 "cells": [
  {
   "cell_type": "code",
   "execution_count": 1,
   "id": "484dad34-2ee6-4b85-968c-8d3b175518eb",
   "metadata": {},
   "outputs": [],
   "source": [
    "import os\n",
    "import cv2\n",
    "import csv\n",
    "from copy import deepcopy\n",
    "from rembg import remove\n",
    "import warnings"
   ]
  },
  {
   "cell_type": "code",
   "execution_count": 2,
   "id": "f3da2117-6a06-4f6e-ac13-d555caecd853",
   "metadata": {},
   "outputs": [],
   "source": [
    "warnings.filterwarnings(action='ignore')"
   ]
  },
  {
   "cell_type": "code",
   "execution_count": 3,
   "id": "a810fca6-f1dd-4fa4-a4a7-038350695f4b",
   "metadata": {},
   "outputs": [],
   "source": [
    "def get_box_coord(label, width, height):\n",
    "    \"\"\"\n",
    "    x1 : min_x\n",
    "    x2 : max_x\n",
    "    y1 : min_y\n",
    "    y2 : max_y\n",
    "    \"\"\"\n",
    "    cl, x, y, w, h = label\n",
    "    cl = int(cl)\n",
    "    x = float(x) * width\n",
    "    y = float(y) * height\n",
    "    w = float(w) * width\n",
    "    h = float(h) * height\n",
    "    x1, x2 = round(x - w / 2), round(x + w / 2)\n",
    "    y1, y2 = round(y - h / 2), round(y + h / 2)\n",
    "    return x1, x2, y1, y2"
   ]
  },
  {
   "cell_type": "code",
   "execution_count": 4,
   "id": "5e558127-fd53-46e0-9ce3-4507eb5af068",
   "metadata": {},
   "outputs": [],
   "source": [
    "def label_list(path):\n",
    "    with open(path) as f:\n",
    "        r = csv.reader(f, delimiter=' ')\n",
    "        label_list = list(r)\n",
    "    return label_list"
   ]
  },
  {
   "cell_type": "code",
   "execution_count": 5,
   "id": "842ba882-7c3d-4fa2-875c-3bc5277328bb",
   "metadata": {
    "tags": []
   },
   "outputs": [],
   "source": [
    "img_list = os.listdir('./images')\n",
    "for i in img_list:\n",
    "    if i[-3:] != 'jpg':\n",
    "        continue\n",
    "    \n",
    "    output_path = f\"./images/{i}\"\n",
    "    \n",
    "    im = cv2.imread(f\"./images/{i}\")\n",
    "    height, width, _ = im.shape\n",
    "    path1 = f'../labels/{i[:-4]}.txt'\n",
    "    if not os.path.isfile(path1): # 라벨 없을떄\n",
    "        print(f\"{path1} no labels\")\n",
    "        im = remove(im)\n",
    "        cv2.imwrite(output_path, im)\n",
    "        continue\n",
    "    label = label_list(path1)\n",
    "    \n",
    "    remove_im = remove(im)\n",
    "    new_im = deepcopy(remove_im[:,:,:3])\n",
    "    for j in label:\n",
    "        x1, x2, y1, y2 = get_box_coord(j, width, height)\n",
    "        origin_im = im[y1:y2, x1:x2]\n",
    "        re = remove(im[y1:y2, x1:x2])\n",
    "        total = (origin_im.shape[0] * origin_im.shape[1] * origin_im.shape[2])\n",
    "        wt = (sum(sum(origin_im[:,:,0]==re[:,:,0])) + sum(sum(origin_im[:,:,1]==re[:,:,1])) + sum(sum(origin_im[:,:,2]==re[:,:,2])))\n",
    "        if wt / total >= 0.55:\n",
    "            new_im[y1:y2, x1:x2] = re[:,:,:3]\n",
    "        else:\n",
    "            new_im[y1:y2, x1:x2] = origin_im\n",
    "    cv2.imwrite(output_path, new_im)            \n",
    "        "
   ]
  }
 ],
 "metadata": {
  "kernelspec": {
   "display_name": "Python 3 (ipykernel)",
   "language": "python",
   "name": "python3"
  },
  "language_info": {
   "codemirror_mode": {
    "name": "ipython",
    "version": 3
   },
   "file_extension": ".py",
   "mimetype": "text/x-python",
   "name": "python",
   "nbconvert_exporter": "python",
   "pygments_lexer": "ipython3",
   "version": "3.8.5"
  }
 },
 "nbformat": 4,
 "nbformat_minor": 5
}
